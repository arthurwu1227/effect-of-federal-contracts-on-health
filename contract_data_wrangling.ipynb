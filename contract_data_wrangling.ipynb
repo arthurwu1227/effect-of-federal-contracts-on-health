{
 "cells": [
  {
   "cell_type": "markdown",
   "id": "3fc1d95b",
   "metadata": {},
   "source": [
    "# Process raw data into aggregated counties based on health spending"
   ]
  },
  {
   "cell_type": "code",
   "execution_count": null,
   "id": "2b9fa884",
   "metadata": {},
   "outputs": [],
   "source": [
    "#this script should be run multiple times for each dataset. Later it should be made into a function so\n",
    "#it is possible to call it easily for each dataset instead of just running it multiple times in the same kernel.\n",
    "\n",
    "#import necessary libraries\n",
    "from dask import dataframe as dpd\n",
    "import pandas as pd\n",
    "import time as time\n",
    "\n",
    "#read in data in a non-lazy format. I must do this for every year I want to run my regression in (for my paper, 2016, 2017, 2018, 2019 and 2020)\n",
    "t1 = time.time()\n",
    "data = dpd.read_csv('/Users/arthurwu/Desktop/raw20192020contractsdata.csv',\n",
    "                   usecols = ['primary_place_of_performance_county_name', 'federal_action_obligation', 'product_or_service_code',\n",
    "                             'naics_code', 'primary_place_of_performance_state_name', 'action_date_fiscal_year'], error_bad_lines = False, engine = 'python', \n",
    "                    dtype={'naics_code': 'object', 'federal_action_obligation': 'object', 'product_or_service_code': 'object', 'action_date_fiscal_year': 'object'}, sep = ',')\n",
    "data = data.persist()\n",
    "\n",
    "#modify data so all datatypes and locations are proper\n",
    "data['naics_code'] = dpd.to_numeric(data['naics_code'], errors = 'coerce')\n",
    "data['federal_action_obligation'] = dpd.to_numeric(data['federal_action_obligation'], errors = 'coerce')\n",
    "data['action_date_fiscal_year'] = dpd.to_numeric(data['action_date_fiscal_year'], errors = 'coerce')\n",
    "data['location'] = data['primary_place_of_performance_county_name'].str.cat(data['primary_place_of_performance_state_name'], sep = \", \")\n",
    "data = data.compute()\n",
    "\n",
    "#import list of codes\n",
    "codes = pd.read_csv('/Users/arthurwu/Desktop/codeskept.csv')\n",
    "naicscodes = codes['naics_code_kept']\n",
    "productcodes = codes['product_or_service_code_kept']\n",
    "print('finished reading all data')\n",
    "\n",
    "#filter data to only include contracts from that list of codes\n",
    "finaldata = data.loc[(data['naics_code'].isin(naicscodes) | (data['product_or_service_code'].isin(productcodes)))]\n",
    "print('finished sorting the data')\n",
    "\n",
    "#aggregate the data\n",
    "finaldata = data\n",
    "finaldata = finaldata[['location', 'federal_action_obligation']]\n",
    "finaldata = finaldata.groupby(['location']).sum()\n",
    "\n",
    "#export the data\n",
    "finaldata.to_csv('rawcontracts.csv')\n",
    "t2 = time.time()\n",
    "print('finished')\n",
    "print(t2-t1)\n"
   ]
  },
  {
   "cell_type": "markdown",
   "id": "9e332e51",
   "metadata": {},
   "source": [
    "# Merge the X-variables together"
   ]
  },
  {
   "cell_type": "code",
   "execution_count": 2,
   "id": "96eb6ef9",
   "metadata": {},
   "outputs": [],
   "source": [
    "#load in all the data\n",
    "\n",
    "import pandas as pd\n",
    "\n",
    "data2016 = pd.read_csv('/Users/arthurwu/Desktop/actionobligation2016outliersincluded.csv')\n",
    "data2016['Year'] = 2016\n",
    "data2017 = pd.read_csv('/Users/arthurwu/Desktop/actionobligation2017outliersincluded.csv')\n",
    "data2017['Year'] = 2017\n",
    "data2018 = pd.read_csv('/Users/arthurwu/Desktop/actionobligation2018outliersincluded.csv')\n",
    "data2018['Year'] = 2018\n",
    "data2019 = pd.read_csv('/Users/arthurwu/Desktop/actionobligation2019outliersincluded.csv')\n",
    "data2019['Year'] = 2019\n",
    "\n",
    "deaths = pd.read_excel('/Users/arthurwu/Desktop/rawdeaths.xlsx')\n",
    "covars = pd.read_csv('/Users/arthurwu/Desktop/countycomplete.csv')"
   ]
  },
  {
   "cell_type": "code",
   "execution_count": 3,
   "id": "b2ce947d",
   "metadata": {},
   "outputs": [],
   "source": [
    "#create dictionaries because I might have to convert state names to abbreviations\n",
    "\n",
    "abbrevmapper = {'alabama':'AL', 'alaska':'AK', 'arizona':'AZ', 'arkansas':'AR', 'california':'CA',\n",
    "               'colorado':'CO', 'connecticut':'CT', 'delaware':'DE', 'district of columbia':'DC',\n",
    "               'florida':'FL', 'georgia':'GA', 'hawaii':'HI', 'idaho':'ID', 'illinois':'IL', \n",
    "               'indiana':'IN', 'iowa':'IA', 'kansas':'KS', 'kentucky':'KY', 'louisiana':'LA', 'maine':'ME',\n",
    "               'maryland':'MD', 'massachusetts':'MA', 'michigan':'MI', 'minnesota':'MN', 'mississippi':'MS',\n",
    "               'missouri':'MO', 'montana':'MT', 'nebraska':'NE', 'nevada':'NV', 'new hampshire':'NH', \n",
    "               'new jersey':'NJ', 'new mexico':'NM', 'new york':'NY', 'north carolina':'NC', 'north dakota':'ND',\n",
    "               'ohio':'OH', 'oklahoma':'OK', 'oregon':'OR', 'pennsylvania':'PA', 'rhode island':'RI',\n",
    "               'south carolina':'SC', 'south dakota':'SD', 'tennessee':'TN', 'texas':'TX', 'utah':'UT',\n",
    "               'vermont':'VT', 'virginia':'VA', 'virgin islands':'VI', 'washington':'WA', 'west virginia':'WV',\n",
    "               'wisconsin':'WI', 'wyoming':'WY'}\n",
    "\n",
    "newmapper = {v: k for k, v in abbrevmapper.items()}"
   ]
  },
  {
   "cell_type": "code",
   "execution_count": 4,
   "id": "49e46aa8",
   "metadata": {},
   "outputs": [],
   "source": [
    "#create a new, in-place column showing an entry's percentile.\n",
    "\n",
    "from scipy import stats\n",
    "\n",
    "def percentiles(df):\n",
    "    df['percentile'] = 0\n",
    "    for i in range(len(df['percentile'])):\n",
    "        df.at[i, 'percentile'] = stats.percentileofscore(df['federal_action_obligation'], df.iloc[i, df.columns.get_loc('federal_action_obligation')])\n",
    "    "
   ]
  },
  {
   "cell_type": "code",
   "execution_count": 5,
   "id": "ed464eb9",
   "metadata": {},
   "outputs": [],
   "source": [
    "#change state names into abbreviations, which will allow deaths data to be merged\n",
    "\n",
    "def prepareForMerge(data, countylabel):\n",
    "    for i in range(len(data['state'])):\n",
    "        element = data.iloc[i, data.columns.get_loc('state')]\n",
    "        element = element.lower()\n",
    "        data.iloc[i, data.columns.get_loc('state')] = abbrevmapper[element]\n",
    "    \n",
    "    data[countylabel] = data[countylabel].str.split(', ').str[0]\n",
    "    data[countylabel] = data[countylabel] + ', ' + data['state']\n",
    "    data[countylabel] = data[countylabel].str.lower()"
   ]
  },
  {
   "cell_type": "code",
   "execution_count": 6,
   "id": "ebfb277b",
   "metadata": {},
   "outputs": [],
   "source": [
    "#modify covariates to allow merger\n",
    "covars['location'] = covars['name'].str[:-7] + ', ' + covars['state']\n",
    "covars['location'] = covars['location'].str.upper()"
   ]
  },
  {
   "cell_type": "code",
   "execution_count": 7,
   "id": "6937a5aa",
   "metadata": {},
   "outputs": [],
   "source": [
    "#merge covariates\n",
    "\n",
    "data2016 = data2016.merge(covars, on='location')\n",
    "data2017 = data2017.merge(covars, on='location')\n",
    "data2018 = data2018.merge(covars, on='location')\n",
    "data2019 = data2019.merge(covars, on='location')"
   ]
  },
  {
   "cell_type": "code",
   "execution_count": 8,
   "id": "61d0be9f",
   "metadata": {},
   "outputs": [],
   "source": [
    "#process rest of xvars for merging with deaths\n",
    "data2016 = data2016.rename(columns = {'location':'County'})\n",
    "data2017 = data2017.rename(columns = {'location':'County.1'})\n",
    "data2018 = data2018.rename(columns = {'location':'County.2'})\n",
    "data2019 = data2019.rename(columns = {'location':'County.3'})\n",
    "\n",
    "# for i in range(len(data2016['state'])):\n",
    "#     element = data2016.iloc[i, data2016.columns.get_loc('state')]\n",
    "#     element = element.lower()\n",
    "#     print(element)\n",
    "#     data2016.iloc[i, data2016.columns.get_loc('state')] = abbrevmapper[element]\n",
    "    \n",
    "# data2016['County'] = data2016['County'].str.split(', ').str[0]\n",
    "# data2016['County'] = data2016['County'] + ', ' + data2016['state']\n",
    "# data2016['County'] = data2016['County'].str.lower()\n",
    "\n",
    "prepareForMerge(data2016, 'County')\n",
    "prepareForMerge(data2017, 'County.1')\n",
    "prepareForMerge(data2018, 'County.2')\n",
    "prepareForMerge(data2019, 'County.3')"
   ]
  },
  {
   "cell_type": "code",
   "execution_count": null,
   "id": "7bda05c7",
   "metadata": {},
   "outputs": [],
   "source": [
    "#process deaths for merging with rest of xvars\n",
    "deaths2016 = deaths[['County', 'Deaths', 'Population']]\n",
    "deaths2016['County'] = deaths2016['County'].str[:-11] + deaths2016['County'].str[-4:]\n",
    "deaths2016['County'] = deaths2016['County'].str.lower()\n",
    "\n",
    "deaths2017 = deaths[['County.1', 'Deaths.1', 'Population.1']]\n",
    "deaths2017['County.1'] = deaths2017['County.1'].str[:-11] + deaths2017['County.1'].str[-4:]\n",
    "deaths2017['County.1'] = deaths2017['County.1'].str.lower()\n",
    "\n",
    "deaths2018 = deaths[['County.2', 'Deaths.2', 'Population.2']]\n",
    "deaths2018['County.2'] = deaths2018['County.2'].str[:-11] + deaths2018['County.2'].str[-4:]\n",
    "deaths2018['County.2'] = deaths2018['County.2'].str.lower()\n",
    "\n",
    "deaths2019 = deaths[['County.3', 'Deaths.3', 'Population.3']]\n",
    "deaths2019['County.3'] = deaths2019['County.3'].str[:-11] + deaths2019['County.3'].str[-4:]\n",
    "deaths2019['County.3'] = deaths2019['County.3'].str.lower()"
   ]
  },
  {
   "cell_type": "code",
   "execution_count": 10,
   "id": "aaf94a80",
   "metadata": {},
   "outputs": [],
   "source": [
    "#perform inner merge on the counties\n",
    "\n",
    "data2016 = data2016.merge(deaths2016, on='County')\n",
    "data2017 = data2017.merge(deaths2017, on='County.1')\n",
    "data2018 = data2018.merge(deaths2018, on='County.2')\n",
    "data2019 = data2019.merge(deaths2019, on='County.3')"
   ]
  },
  {
   "cell_type": "code",
   "execution_count": 11,
   "id": "c19e66ea",
   "metadata": {},
   "outputs": [],
   "source": [
    "#create per capita and deathratio metrics\n",
    "data2016['deathratio'] = data2016['Deaths']/data2016['Population']\n",
    "data2017['deathratio'] = data2017['Deaths.1']/data2017['Population.1']\n",
    "data2018['deathratio'] = data2018['Deaths.2']/data2018['Population.2']\n",
    "data2019['deathratio'] = data2019['Deaths.3']/data2019['Population.3']\n",
    "\n",
    "data2016['perCapitaSpending'] = data2016['federal_action_obligation']/data2016['pop2016']\n",
    "data2017['perCapitaSpending'] = data2017['federal_action_obligation']/data2017['pop2017']\n",
    "data2018['perCapitaSpending'] = data2018['federal_action_obligation']/data2018['pop2017']\n",
    "data2019['perCapitaSpending'] = data2019['federal_action_obligation']/data2019['pop2017']"
   ]
  },
  {
   "cell_type": "code",
   "execution_count": 12,
   "id": "29bda533",
   "metadata": {},
   "outputs": [],
   "source": [
    "#rename data to prepare for concatenation\n",
    "data2017 = data2017.rename(columns = {'County.1':'County', 'Deaths.1':'Deaths', 'Population.1':'Population'})\n",
    "data2018 = data2018.rename(columns = {'County.2':'County', 'Deaths.2':'Deaths', 'Population.2':'Population'})\n",
    "data2019 = data2019.rename(columns = {'County.3':'County', 'Deaths.3':'Deaths', 'Population.3':'Population'})"
   ]
  },
  {
   "cell_type": "code",
   "execution_count": 13,
   "id": "786242ec",
   "metadata": {},
   "outputs": [],
   "source": [
    "#for each year, truncate the data and pick specific covariates to use (not all years have all covariates available)\n",
    "percentiles(data2016)\n",
    "data2016 = data2016.loc[(data2016['percentile'] > 1) & (data2016['percentile'] < 99)]\n",
    "data2016 = data2016[['County', 'Year', 'perCapitaSpending', 'density_2010', 'uninsured_2017', 'avg_family_size_2019', 'unemployment_rate_2016', 'per_capita_income_2017', 'bachelors_2016', 'white_not_hispanic_2017', 'age_over_65_2017', 'poverty_2016', 'fips', 'pop2016']]\n",
    "\n",
    "percentiles(data2017)\n",
    "data2017 = data2017.loc[(data2017['percentile'] > 1) & (data2017['percentile'] < 99)]\n",
    "data2017 = data2017[['County', 'Year', 'perCapitaSpending', 'density_2010', 'uninsured_2017', 'avg_family_size_2019', 'white_not_hispanic_2017', 'unemployment_rate_2017', 'per_capita_income_2017', 'bachelors_2017', 'age_over_65_2017', 'poverty_2017', 'fips', 'pop2017']]\n",
    "                     \n",
    "percentiles(data2018)\n",
    "data2018 = data2018.loc[(data2018['percentile'] > 1) & (data2018['percentile'] < 99)]\n",
    "data2018 = data2018[['County', 'Year', 'perCapitaSpending', 'density_2010', 'uninsured_2017', 'avg_family_size_2019', 'white_not_hispanic_2017', 'unemployment_rate_2017', 'per_capita_income_2017', 'bachelors_2017', 'age_over_65_2017', 'poverty_2017', 'fips', 'pop2017']]\n",
    "\n",
    "percentiles(data2019)\n",
    "data2019 = data2019.loc[(data2019['percentile'] > 1) & (data2019['percentile'] < 99)]\n",
    "data2019 = data2019[['County', 'Year', 'perCapitaSpending', 'density_2010', 'avg_family_size_2019', 'unemployment_rate_2019', 'per_capita_income_2019', 'bachelors_2019', 'white_not_hispanic_2019', 'age_over_65_2019', 'uninsured_2019', 'poverty_2019', 'fips', 'pop2017']]\n"
   ]
  },
  {
   "cell_type": "code",
   "execution_count": 14,
   "id": "1f724666",
   "metadata": {
    "scrolled": true
   },
   "outputs": [],
   "source": [
    "#process all finances data\n",
    "\n",
    "import pandas as pd\n",
    "\n",
    "def processFinances(path):\n",
    "    financedata = pd.read_csv(path)\n",
    "    financedata.columns = ['Original']\n",
    "    financedata['ID'] = ''\n",
    "    financedata['AmountYear'] = ''\n",
    "\n",
    "    financedata['ID'] = financedata['Original'].str.split(' ').str[0]\n",
    "    financedata['AmountYear'] = financedata['Original'].str.split(' ').str[-1]\n",
    "\n",
    "    financedata = financedata.drop(columns = ['Original'])\n",
    "    financedata['ItemCode'] = financedata['ID'].str[-3] + financedata['ID'].str[-2] + financedata['ID'].str[-1]\n",
    "    financedata['fipscode'] = financedata['ID'].str[0:2] + financedata['ID'].str[3:6]\n",
    "    financedata['value'] = financedata['AmountYear'].str[:-5]\n",
    "    financedata['value'] = pd.to_numeric(financedata['value'])\n",
    "\n",
    "    #need to filter out to make sure only health funding on county level appears\n",
    "\n",
    "    financedata = financedata.loc[(financedata['ItemCode'] == 'A36') | (financedata['ItemCode'] == 'B42') | (financedata['ItemCode'] == 'C42') | (financedata['ItemCode'] == 'D42') | (financedata['ItemCode'] == 'E32') | (financedata['ItemCode'] == 'F32') | (financedata['ItemCode'] == 'G32') | (financedata['ItemCode'] == 'L32') | (financedata['ItemCode'] == 'M32')]\n",
    "    financedata = financedata.drop(columns = ['ID', 'AmountYear', 'ItemCode'])\n",
    "\n",
    "    financedata = financedata.groupby(['fipscode']).sum()\n",
    "    financedata = financedata.reset_index()\n",
    "    financedata.columns = [['fips', 'financevalue']]\n",
    "    return financedata\n",
    "\n",
    "finances2016 = processFinances('/Users/arthurwu/Desktop/2016finances.txt')\n",
    "finances2017 = processFinances('/Users/arthurwu/Desktop/2017finances.txt')\n",
    "finances2018 = processFinances('/Users/arthurwu/Desktop/2018finances.txt')\n",
    "finances2019 = processFinances('/Users/arthurwu/Desktop/2019finances.txt')\n",
    "\n",
    "# merge all finances data\n",
    "\n",
    "data2016 = data2016.merge(finances2016, on='fips')\n",
    "data2017 = data2017.merge(finances2117, on='fips')\n",
    "data2018 = data2018.merge(finances2018, on='fips')\n",
    "data2019 = data2019.merge(finances2019, on='fips')\n",
    "\n",
    "#add new per capita column\n",
    "data2016['financevalue'] = data2016['financevalue']/data2016['pop2016']\n",
    "data2017['financevalue'] = data2017['financevalue']/data2017['pop2017']\n",
    "data2018['financevalue'] = data2018['financevalue']/data2018['pop2017']\n",
    "data2019['financevalue'] = data2019['financevalue']/data2019['pop2017']\n"
   ]
  },
  {
   "cell_type": "code",
   "execution_count": 16,
   "id": "dabdc42e",
   "metadata": {},
   "outputs": [],
   "source": [
    "#output all the data\n",
    "\n",
    "data2016.to_csv('panel16.csv')\n",
    "data2017.to_csv('panel17.csv')\n",
    "data2018.to_csv('panel18.csv')\n",
    "data2019.to_csv('panel19.csv')"
   ]
  },
  {
   "cell_type": "code",
   "execution_count": 29,
   "id": "4466d212",
   "metadata": {},
   "outputs": [
    {
     "data": {
      "text/plain": [
       "<AxesSubplot:xlabel='financevalue', ylabel='Count'>"
      ]
     },
     "execution_count": 29,
     "metadata": {},
     "output_type": "execute_result"
    },
    {
     "data": {
      "image/png": "[encoded data removed]",
      "text/plain": [
       "<Figure size 432x288 with 1 Axes>"
      ]
     },
     "metadata": {
      "needs_background": "light"
     },
     "output_type": "display_data"
    }
   ],
   "source": [
    "#distribution of grant funding per capita\n",
    "\n",
    "import seaborn as sns\n",
    "\n",
    "sns.histplot(data2019['financevalue'])"
   ]
  }
 ],
 "metadata": {
  "kernelspec": {
   "display_name": "Python 3 (ipykernel)",
   "language": "python",
   "name": "python3"
  },
  "language_info": {
   "codemirror_mode": {
    "name": "ipython",
    "version": 3
   },
   "file_extension": ".py",
   "mimetype": "text/x-python",
   "name": "python",
   "nbconvert_exporter": "python",
   "pygments_lexer": "ipython3",
   "version": "3.10.9"
  }
 },
 "nbformat": 4,
 "nbformat_minor": 5
}
